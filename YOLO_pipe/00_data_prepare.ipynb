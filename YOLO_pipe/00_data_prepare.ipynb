{
 "cells": [
  {
   "cell_type": "code",
   "execution_count": 1,
   "id": "185209ac-1091-49bf-a3aa-c759f717d3ac",
   "metadata": {},
   "outputs": [],
   "source": [
    "import pandas as pd\n",
    "from tqdm.notebook import tqdm\n",
    "import os\n",
    "from shutil import copyfile, move, copy\n",
    "import sys\n",
    "import json"
   ]
  },
  {
   "cell_type": "code",
   "execution_count": 18,
   "id": "1b9383cf",
   "metadata": {},
   "outputs": [
    {
     "name": "stdout",
     "output_type": "stream",
     "text": [
      "Cloning into 'JSON2YOLO'...\n",
      "remote: Enumerating objects: 292, done.\u001b[K\n",
      "remote: Counting objects: 100% (128/128), done.\u001b[K\n",
      "remote: Compressing objects: 100% (38/38), done.\u001b[K\n",
      "remote: Total 292 (delta 111), reused 101 (delta 90), pack-reused 164\u001b[K\n",
      "Receiving objects: 100% (292/292), 89.35 KiB | 644.00 KiB/s, done.\n",
      "Resolving deltas: 100% (186/186), done.\n"
     ]
    }
   ],
   "source": [
    "!git clone https://github.com/ultralytics/JSON2YOLO"
   ]
  },
  {
   "cell_type": "code",
   "execution_count": 2,
   "id": "5b5b00e6",
   "metadata": {},
   "outputs": [
    {
     "data": {
      "text/plain": [
       "'datasets/rstd_yolo/test_annotation/val_anno.json'"
      ]
     },
     "execution_count": 2,
     "metadata": {},
     "output_type": "execute_result"
    }
   ],
   "source": [
    "sys.path.append('./JSON2YOLO')\n",
    "from JSON2YOLO.general_json2yolo import convert_coco_json\n",
    "\n",
    "test_path = 'datasets/rstd_yolo/test_annotation'\n",
    "train_path = 'datasets/rstd_yolo/train_annotation'\n",
    "\n",
    "os.makedirs(train_path, exist_ok=True)\n",
    "os.makedirs(test_path, exist_ok=True)\n",
    "\n",
    "copy('datasets/rstd/train_anno.json', os.path.join(train_path, 'train_anno.json'))\n",
    "copy('datasets/rstd/val_anno.json', os.path.join(test_path, 'val_anno.json'))"
   ]
  },
  {
   "cell_type": "code",
   "execution_count": 4,
   "id": "2b7fb9a2",
   "metadata": {},
   "outputs": [
    {
     "name": "stderr",
     "output_type": "stream",
     "text": [
      "Annotations /Users/user/mastersITMO/TrafficSignDetection/datasets/rstd_yolo/train_annotation/train_anno.json: 100%|██████████| 54188/54188 [00:05<00:00, 9920.11it/s] \n"
     ]
    },
    {
     "data": {
      "application/vnd.jupyter.widget-view+json": {
       "model_id": "c3cb7d6214074c95bf4b306c334d7cd0",
       "version_major": 2,
       "version_minor": 0
      },
      "text/plain": [
       "  0%|          | 0/54188 [00:00<?, ?it/s]"
      ]
     },
     "metadata": {},
     "output_type": "display_data"
    },
    {
     "name": "stderr",
     "output_type": "stream",
     "text": [
      "Annotations /Users/user/mastersITMO/TrafficSignDetection/datasets/rstd_yolo/test_annotation/val_anno.json: 100%|██████████| 5000/5000 [00:00<00:00, 12672.95it/s]\n"
     ]
    },
    {
     "data": {
      "application/vnd.jupyter.widget-view+json": {
       "model_id": "ee471b37498a4cbf99a04c6b706ffb30",
       "version_major": 2,
       "version_minor": 0
      },
      "text/plain": [
       "  0%|          | 0/5000 [00:00<?, ?it/s]"
      ]
     },
     "metadata": {},
     "output_type": "display_data"
    }
   ],
   "source": [
    "for folder in ['labels', 'images']:\n",
    "    for path in [test_path, train_path]:\n",
    "        os.makedirs(os.path.join(path, folder), exist_ok=True)\n",
    "        \n",
    "convert_coco_json(train_path)\n",
    "for file in tqdm(os.listdir(os.path.join('new_dir/labels/train_anno'))):\n",
    "    move(os.path.join('new_dir/labels/train_anno', file), os.path.join(train_path, 'labels', file))\n",
    "    \n",
    "convert_coco_json(test_path)\n",
    "for file in tqdm(os.listdir(os.path.join('new_dir/labels/val_anno'))):\n",
    "    move(os.path.join('new_dir/labels/val_anno', file), os.path.join(test_path, 'labels', file))"
   ]
  },
  {
   "cell_type": "code",
   "execution_count": 12,
   "id": "710131b7",
   "metadata": {},
   "outputs": [
    {
     "data": {
      "application/vnd.jupyter.widget-view+json": {
       "model_id": "05ef44a27ae544f798f8ee2befc55e42",
       "version_major": 2,
       "version_minor": 0
      },
      "text/plain": [
       "  0%|          | 0/179138 [00:00<?, ?it/s]"
      ]
     },
     "metadata": {},
     "output_type": "display_data"
    }
   ],
   "source": [
    "test_labels = os.listdir(os.path.join(test_path, 'labels'))\n",
    "train_labels = os.listdir(os.path.join(train_path, 'labels'))\n",
    "\n",
    "test_labels = set(map(lambda x: x.split('.')[0], test_labels))\n",
    "train_labels = set(map(lambda x: x.split('.')[0], train_labels))\n",
    "\n",
    "images = 'datasets/rstd/rtsd-frames/rtsd-frames'\n",
    "for file in tqdm(os.listdir(images)):\n",
    "    name = file.split('.')[0]\n",
    "    if name in train_labels:\n",
    "        move(os.path.join(images, file), os.path.join(train_path,'images', file))\n",
    "    if name in test_labels:\n",
    "        move(os.path.join(images, file), os.path.join(test_path,'images', file))"
   ]
  },
  {
   "cell_type": "markdown",
   "id": "85f9735a",
   "metadata": {},
   "source": [
    "**Post processing results**"
   ]
  },
  {
   "cell_type": "code",
   "execution_count": 11,
   "id": "8c345bf2",
   "metadata": {},
   "outputs": [],
   "source": [
    "sings_rtsd = {\"2_1\": 1, \"1_23\": 2, \"1_17\": 3, \"3_24\": 4, \"8_2_1\": 5, \"5_20\": 6, \"5_19_1\": 7, \"5_16\": 8, \"3_25\": 9, \"6_16\": 10, \"7_15\": 11, \"2_2\": 12, \"2_4\": 13, \"8_13_1\": 14, \"4_2_1\": 15, \"1_20_3\": 16, \"1_25\": 17, \"3_4\": 18, \"8_3_2\": 19, \"3_4_1\": 20, \"4_1_6\": 21, \"4_2_3\": 22, \"4_1_1\": 23, \"1_33\": 24, \"5_15_5\": 25, \"3_27\": 26, \"1_15\": 27, \"4_1_2_1\": 28, \"6_3_1\": 29, \"8_1_1\": 30, \"6_7\": 31, \"5_15_3\": 32, \"7_3\": 33, \"1_19\": 34, \"6_4\": 35, \"8_1_4\": 36, \"8_8\": 37, \"1_16\": 38, \"1_11_1\": 39, \"6_6\": 40, \"5_15_1\": 41, \"7_2\": 42, \"5_15_2\": 43, \"7_12\": 44, \"3_18\": 45, \"5_6\": 46, \"5_5\": 47, \"7_4\": 48, \"4_1_2\": 49, \"8_2_2\": 50, \"7_11\": 51, \"1_22\": 52, \"1_27\": 53, \"2_3_2\": 54, \"5_15_2_2\": 55, \"1_8\": 56, \"3_13\": 57, \"2_3\": 58, \"8_3_3\": 59, \"2_3_3\": 60, \"7_7\": 61, \"1_11\": 62, \"8_13\": 63, \"1_12_2\": 64, \"1_20\": 65, \"1_12\": 66, \"3_32\": 67, \"2_5\": 68, \"3_1\": 69, \"4_8_2\": 70, \"3_20\": 71, \"3_2\": 72, \"2_3_6\": 73, \"5_22\": 74, \"5_18\": 75, \"2_3_5\": 76, \"7_5\": 77, \"8_4_1\": 78, \"3_14\": 79, \"1_2\": 80, \"1_20_2\": 81, \"4_1_4\": 82, \"7_6\": 83, \"8_1_3\": 84, \"8_3_1\": 85, \"4_3\": 86, \"4_1_5\": 87, \"8_2_3\": 88, \"8_2_4\": 89, \"1_31\": 90, \"3_10\": 91, \"4_2_2\": 92, \"7_1\": 93, \"3_28\": 94, \"4_1_3\": 95, \"5_4\": 96, \"5_3\": 97, \"6_8_2\": 98, \"3_31\": 99, \"6_2\": 100, \"1_21\": 101, \"3_21\": 102, \"1_13\": 103, \"1_14\": 104, \"2_3_4\": 105, \"4_8_3\": 106, \"6_15_2\": 107, \"2_6\": 108, \"3_18_2\": 109, \"4_1_2_2\": 110, \"1_7\": 111, \"3_19\": 112, \"1_18\": 113, \"2_7\": 114, \"8_5_4\": 115, \"5_15_7\": 116, \"5_14\": 117, \"5_21\": 118, \"1_1\": 119, \"6_15_1\": 120, \"8_6_4\": 121, \"8_15\": 122, \"4_5\": 123, \"3_11\": 124, \"8_18\": 125, \"8_4_4\": 126, \"3_30\": 127, \"5_7_1\": 128, \"5_7_2\": 129, \"1_5\": 130, \"3_29\": 131, \"6_15_3\": 132, \"5_12\": 133, \"3_16\": 134, \"1_30\": 135, \"5_11\": 136, \"1_6\": 137, \"8_6_2\": 138, \"6_8_3\": 139, \"3_12\": 140, \"3_33\": 141, \"8_4_3\": 142, \"5_8\": 143, \"8_14\": 144, \"8_17\": 145, \"3_6\": 146, \"1_26\": 147, \"8_5_2\": 148, \"6_8_1\": 149, \"5_17\": 150, \"1_10\": 151, \"8_16\": 152, \"7_18\": 153, \"7_14\": 154, \"8_23\": 155}\n",
    "sings_rtsd = dict(zip(range(len(sings_rtsd)), [x.replace('_','.') for x in list(sings_rtsd.keys())]))\n",
    "\n",
    "sings_input = ['3.24', '1.16', '5.15.5', '5.19.1', '5.19.2', '1.20.1', '8.23',\n",
    "'2.1', '4.2.1', '8.22.1', '6.16', '1.22', '1.2', '5.16', '3.27',\n",
    "'6.10.1', '8.2.4', '6.12', '5.15.2', '3.13', '3.1', '3.20', '3.12',\n",
    "'7.14.2', '5.23.1', '2.4', '5.6', '4.2.3', '8.22.3', '5.15.1',\n",
    "'7.3', '3', '2.3.1', '3.11', '6.13', '5.15.4', '8.2.1', '1.34.3',\n",
    "'8.2.2', '5.15.3', '1.17', '4.1.1', '4.1.4', '3.25', '1.20.2',\n",
    "'8.22.2', '6.9.2', '3.2', '5.5', '5.15.7', '7.12', '8.2.3',\n",
    "'5.24.1', '1.25', '3.28', '5.9.1', '5.15.6', '8.1.1', '1.10',\n",
    "'6.11', '3.4', '6.10', '6.9.1', '8.2.5', '5.15', '4.8.2', '8.22',\n",
    "'5.21', '5.18']"
   ]
  },
  {
   "cell_type": "code",
   "execution_count": 12,
   "id": "b8d3184c",
   "metadata": {},
   "outputs": [],
   "source": [
    "def parse_labeltxt(path):\n",
    "    with open(os.path.join(path), 'r') as file:\n",
    "        lines = file.readlines()\n",
    "        labels = [sings_rtsd[int(x.split(' ')[0])] for x in lines]\n",
    "        if labels.count('5.19.1')>1:\n",
    "            labels.append('5.19.2')\n",
    "        labels = list(set(labels))\n",
    "        return labels\n",
    "\n",
    "def rtsd2predict(labels):\n",
    "    int_labels = []\n",
    "    for sign in labels:\n",
    "        if sign in sings_input:\n",
    "            int_labels.append(sings_input.index(sign) + 1)\n",
    "    return int_labels"
   ]
  },
  {
   "cell_type": "code",
   "execution_count": null,
   "id": "7f8d9740",
   "metadata": {},
   "outputs": [],
   "source": [
    "test_csv = pd.read_csv('YOLO_pipe/runs/detect/train10/results.csv', delimiter=',')\n",
    "sample_solution = pd.read_csv('sample_solution.csv', delimiter=',')\n",
    "labels_path = '/home/jovyan/yolov5/runs/detect/yolov5m6_signs_test/labels' #заменить на путь, где у вас хранятся запуски yolov5\n",
    "\n",
    "predicted_labels = {}\n",
    "for label in tqdm(os.listdir(labels_path)):\n",
    "    predicted_labels[label[:-3]+'jpg'] = rtsd2predict(parse_labeltxt(os.path.join(labels_path, label)))"
   ]
  },
  {
   "cell_type": "code",
   "execution_count": null,
   "id": "45b6c43a",
   "metadata": {},
   "outputs": [],
   "source": [
    "img2id = {}\n",
    "for index, row in test_csv.iterrows():\n",
    "    img2id[row['img']] = row['id']\n",
    "\n",
    "for img in predicted_final.keys():\n",
    "    img_id = img2id[img]\n",
    "    signs = predicted_final[img] + ((8-len(predicted_final[img]))*[0])\n",
    "    sample_solution[sample_solution['id']==img_id] = [img_id] + signs\n",
    "\n",
    "sample_solution.to_csv('solution.csv', index=False)"
   ]
  }
 ],
 "metadata": {
  "kernelspec": {
   "display_name": "Python 3 (ipykernel)",
   "language": "python",
   "name": "python3"
  },
  "language_info": {
   "codemirror_mode": {
    "name": "ipython",
    "version": 3
   },
   "file_extension": ".py",
   "mimetype": "text/x-python",
   "name": "python",
   "nbconvert_exporter": "python",
   "pygments_lexer": "ipython3",
   "version": "3.10.13"
  }
 },
 "nbformat": 4,
 "nbformat_minor": 5
}
